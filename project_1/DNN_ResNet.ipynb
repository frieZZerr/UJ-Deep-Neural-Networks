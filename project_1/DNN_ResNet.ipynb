{
 "cells": [
  {
   "cell_type": "markdown",
   "metadata": {
    "id": "HsF9MOiFEP-8"
   },
   "source": [
    "# UJ Deep Neural Networks - project_1 - ResNet implementation"
   ]
  },
  {
   "cell_type": "markdown",
   "metadata": {
    "id": "zt4wYPcjOBJh"
   },
   "source": [
    "### Imports"
   ]
  },
  {
   "cell_type": "code",
   "execution_count": 1,
   "metadata": {
    "id": "ZiOMxeX1OAXa"
   },
   "outputs": [],
   "source": [
    "import os\n",
    "import matplotlib.pyplot as plt\n",
    "import torch\n",
    "import torch.nn as nn\n",
    "import torch.nn.functional as F\n",
    "import torch.optim as optim\n",
    "from torchsummary import summary\n",
    "from collections import OrderedDict\n",
    "\n",
    "from torchvision import datasets, transforms\n",
    "from torch.utils.data import random_split, DataLoader"
   ]
  },
  {
   "cell_type": "markdown",
   "metadata": {
    "id": "Nt1E_SPHN48d"
   },
   "source": [
    "### Load CIFAR10 dataset"
   ]
  },
  {
   "cell_type": "code",
   "execution_count": 2,
   "metadata": {
    "id": "QGll4XK2Oefb"
   },
   "outputs": [],
   "source": [
    "def dataset_loader(datset_path, batch_size):\n",
    "  transform = transforms.Compose([\n",
    "      transforms.ToTensor(),\n",
    "      transforms.Normalize(mean=[0.5], std=[0.5])\n",
    "  ])\n",
    "\n",
    "  train_dataset = datasets.CIFAR10(root=datset_path, train=True, download=True, transform=transform)\n",
    "  test_dataset = datasets.CIFAR10(root=datset_path, train=False, download=True, transform=transform)\n",
    "\n",
    "  train_dataset, val_dataset = random_split(train_dataset, (45000, 5000))\n",
    "\n",
    "  print(f\"Dataset random image shape: {train_dataset[0][0].numpy().shape}\")\n",
    "\n",
    "  print(f\"Train dataset size: {len(train_dataset)}\")\n",
    "  print(f\"Validation dataset size: {len(val_dataset)}\")\n",
    "  print(f\"Test dataset size: {len(test_dataset)}\")\n",
    "\n",
    "  train_loader = DataLoader(train_dataset, batch_size=batch_size, shuffle=True)\n",
    "  val_loader = DataLoader(val_dataset, batch_size=batch_size, shuffle=True)\n",
    "  test_loader = DataLoader(test_dataset, batch_size=10000, shuffle=True)\n",
    "\n",
    "  return train_loader, val_loader, test_loader"
   ]
  },
  {
   "cell_type": "markdown",
   "metadata": {
    "id": "RPcnjzFyVoky"
   },
   "source": [
    "### Residual block implementation"
   ]
  },
  {
   "cell_type": "code",
   "execution_count": 3,
   "metadata": {
    "id": "8SBmRZ4JVuZe"
   },
   "outputs": [],
   "source": [
    "class ResidualBlock(nn.Module):\n",
    "  def __init__(self, in_channels, out_channels, stride=1):\n",
    "    super(ResidualBlock, self).__init__()\n",
    "\n",
    "    self.layers = nn.Sequential(OrderedDict([\n",
    "        ('conv1', nn.Conv2d(\n",
    "            in_channels,\n",
    "            out_channels,\n",
    "            kernel_size=1,\n",
    "            stride=1,\n",
    "            padding=0,\n",
    "            bias=False)),\n",
    "        ('bn1', nn.BatchNorm2d(out_channels)),\n",
    "        ('relu1', nn.ReLU()),\n",
    "        ('conv2', nn.Conv2d(\n",
    "            out_channels,\n",
    "            out_channels,\n",
    "            kernel_size=3,\n",
    "            stride=stride,\n",
    "            padding=1,\n",
    "            bias=False)),\n",
    "        ('bn2', nn.BatchNorm2d(out_channels)),\n",
    "        ('relu2', nn.ReLU()),\n",
    "        ('conv3', nn.Conv2d(\n",
    "            out_channels,\n",
    "            out_channels * 4,\n",
    "            kernel_size=1,\n",
    "            stride=1,\n",
    "            padding=0,\n",
    "            bias=False)),\n",
    "        ('bn3', nn.BatchNorm2d(out_channels * 4))\n",
    "    ]))\n",
    "\n",
    "    self.skip_connection = nn.Sequential()\n",
    "\n",
    "    if stride != 1 or in_channels != out_channels * 4:\n",
    "      self.skip_connection = nn.Sequential(OrderedDict([\n",
    "          ('sc_conv1', nn.Conv2d(in_channels, out_channels * 4, kernel_size=1, stride=stride, padding=0, bias=False)),\n",
    "          ('sc_bn1', nn.BatchNorm2d(out_channels * 4))\n",
    "      ]))\n",
    "\n",
    "  def forward(self, x):\n",
    "    out = self.layers(x)\n",
    "    out += self.skip_connection(x)\n",
    "    out = F.relu(out)\n",
    "    return out"
   ]
  },
  {
   "cell_type": "markdown",
   "metadata": {
    "id": "__QcIq1Wipxe"
   },
   "source": [
    "### ResNet class implementation"
   ]
  },
  {
   "cell_type": "code",
   "execution_count": 4,
   "metadata": {
    "id": "or3T3hTJjE5u"
   },
   "outputs": [],
   "source": [
    "class ResNet(nn.Module):\n",
    "  def __init__(self, num_of_blocks, num_of_classes):\n",
    "    super(ResNet, self).__init__()\n",
    "\n",
    "    self.in_channels = 64\n",
    "\n",
    "    self.starting_layers = nn.Sequential(OrderedDict([\n",
    "        ('conv0', nn.Conv2d(3, 64, kernel_size=7, stride=2, padding=3, bias=False)),\n",
    "        ('bn0', nn.BatchNorm2d(64)),\n",
    "        ('relu0', nn.ReLU()),\n",
    "        ('pool0', nn.MaxPool2d(kernel_size=3, stride=2, padding=1))\n",
    "    ]))\n",
    "\n",
    "    self.block1 = self.make_block(64, num_of_blocks[0], stride=1)\n",
    "    self.block2 = self.make_block(128, num_of_blocks[1], stride=2)\n",
    "    self.block3 = self.make_block(256, num_of_blocks[2], stride=2)\n",
    "    self.block4 = self.make_block(512, num_of_blocks[3], stride=2)\n",
    "\n",
    "    self.avgpool = nn.AdaptiveAvgPool2d((1,1))\n",
    "    self.fc = nn.Linear(512 * 4, num_of_classes)\n",
    "\n",
    "  def make_block(self, out_channels, num_of_blocks, stride):\n",
    "    strides = []\n",
    "    strides.append(stride)\n",
    "    for i in range(num_of_blocks-1):\n",
    "      strides.append(1)\n",
    "\n",
    "    layers = []\n",
    "    for _stride in strides:\n",
    "      layers.append(ResidualBlock(self.in_channels, out_channels, stride=_stride))\n",
    "      self.in_channels = out_channels * 4\n",
    "\n",
    "    # print('layers_list_for_current_block: ', layers)\n",
    "    return nn.Sequential(*layers)\n",
    "\n",
    "  def forward(self, x):\n",
    "    out = self.starting_layers(x)\n",
    "    out = self.block1(out)\n",
    "    out = self.block2(out)\n",
    "    out = self.block3(out)\n",
    "    out = self.block4(out)\n",
    "    out = self.avgpool(out)\n",
    "    out = torch.flatten(out, 1)\n",
    "    out = self.fc(out)\n",
    "    return out\n",
    "\n",
    "  def ResNet56():\n",
    "    return ResNet(num_of_blocks=[3,4,6,3], num_of_classes=10)"
   ]
  },
  {
   "cell_type": "code",
   "execution_count": 5,
   "metadata": {
    "colab": {
     "base_uri": "https://localhost:8080/"
    },
    "id": "cRwQZj6FoPOt",
    "outputId": "e353a7d8-5188-47ca-8f44-af94c55ed06d"
   },
   "outputs": [
    {
     "name": "stdout",
     "output_type": "stream",
     "text": [
      "----------------------------------------------------------------\n",
      "        Layer (type)               Output Shape         Param #\n",
      "================================================================\n",
      "            Conv2d-1           [-1, 64, 64, 64]           9,408\n",
      "       BatchNorm2d-2           [-1, 64, 64, 64]             128\n",
      "              ReLU-3           [-1, 64, 64, 64]               0\n",
      "         MaxPool2d-4           [-1, 64, 32, 32]               0\n",
      "            Conv2d-5           [-1, 64, 32, 32]           4,096\n",
      "       BatchNorm2d-6           [-1, 64, 32, 32]             128\n",
      "              ReLU-7           [-1, 64, 32, 32]               0\n",
      "            Conv2d-8           [-1, 64, 32, 32]          36,864\n",
      "       BatchNorm2d-9           [-1, 64, 32, 32]             128\n",
      "             ReLU-10           [-1, 64, 32, 32]               0\n",
      "           Conv2d-11          [-1, 256, 32, 32]          16,384\n",
      "      BatchNorm2d-12          [-1, 256, 32, 32]             512\n",
      "           Conv2d-13          [-1, 256, 32, 32]          16,384\n",
      "      BatchNorm2d-14          [-1, 256, 32, 32]             512\n",
      "    ResidualBlock-15          [-1, 256, 32, 32]               0\n",
      "           Conv2d-16           [-1, 64, 32, 32]          16,384\n",
      "      BatchNorm2d-17           [-1, 64, 32, 32]             128\n",
      "             ReLU-18           [-1, 64, 32, 32]               0\n",
      "           Conv2d-19           [-1, 64, 32, 32]          36,864\n",
      "      BatchNorm2d-20           [-1, 64, 32, 32]             128\n",
      "             ReLU-21           [-1, 64, 32, 32]               0\n",
      "           Conv2d-22          [-1, 256, 32, 32]          16,384\n",
      "      BatchNorm2d-23          [-1, 256, 32, 32]             512\n",
      "    ResidualBlock-24          [-1, 256, 32, 32]               0\n",
      "           Conv2d-25           [-1, 64, 32, 32]          16,384\n",
      "      BatchNorm2d-26           [-1, 64, 32, 32]             128\n",
      "             ReLU-27           [-1, 64, 32, 32]               0\n",
      "           Conv2d-28           [-1, 64, 32, 32]          36,864\n",
      "      BatchNorm2d-29           [-1, 64, 32, 32]             128\n",
      "             ReLU-30           [-1, 64, 32, 32]               0\n",
      "           Conv2d-31          [-1, 256, 32, 32]          16,384\n",
      "      BatchNorm2d-32          [-1, 256, 32, 32]             512\n",
      "    ResidualBlock-33          [-1, 256, 32, 32]               0\n",
      "           Conv2d-34          [-1, 128, 32, 32]          32,768\n",
      "      BatchNorm2d-35          [-1, 128, 32, 32]             256\n",
      "             ReLU-36          [-1, 128, 32, 32]               0\n",
      "           Conv2d-37          [-1, 128, 16, 16]         147,456\n",
      "      BatchNorm2d-38          [-1, 128, 16, 16]             256\n",
      "             ReLU-39          [-1, 128, 16, 16]               0\n",
      "           Conv2d-40          [-1, 512, 16, 16]          65,536\n",
      "      BatchNorm2d-41          [-1, 512, 16, 16]           1,024\n",
      "           Conv2d-42          [-1, 512, 16, 16]         131,072\n",
      "      BatchNorm2d-43          [-1, 512, 16, 16]           1,024\n",
      "    ResidualBlock-44          [-1, 512, 16, 16]               0\n",
      "           Conv2d-45          [-1, 128, 16, 16]          65,536\n",
      "      BatchNorm2d-46          [-1, 128, 16, 16]             256\n",
      "             ReLU-47          [-1, 128, 16, 16]               0\n",
      "           Conv2d-48          [-1, 128, 16, 16]         147,456\n",
      "      BatchNorm2d-49          [-1, 128, 16, 16]             256\n",
      "             ReLU-50          [-1, 128, 16, 16]               0\n",
      "           Conv2d-51          [-1, 512, 16, 16]          65,536\n",
      "      BatchNorm2d-52          [-1, 512, 16, 16]           1,024\n",
      "    ResidualBlock-53          [-1, 512, 16, 16]               0\n",
      "           Conv2d-54          [-1, 128, 16, 16]          65,536\n",
      "      BatchNorm2d-55          [-1, 128, 16, 16]             256\n",
      "             ReLU-56          [-1, 128, 16, 16]               0\n",
      "           Conv2d-57          [-1, 128, 16, 16]         147,456\n",
      "      BatchNorm2d-58          [-1, 128, 16, 16]             256\n",
      "             ReLU-59          [-1, 128, 16, 16]               0\n",
      "           Conv2d-60          [-1, 512, 16, 16]          65,536\n",
      "      BatchNorm2d-61          [-1, 512, 16, 16]           1,024\n",
      "    ResidualBlock-62          [-1, 512, 16, 16]               0\n",
      "           Conv2d-63          [-1, 128, 16, 16]          65,536\n",
      "      BatchNorm2d-64          [-1, 128, 16, 16]             256\n",
      "             ReLU-65          [-1, 128, 16, 16]               0\n",
      "           Conv2d-66          [-1, 128, 16, 16]         147,456\n",
      "      BatchNorm2d-67          [-1, 128, 16, 16]             256\n",
      "             ReLU-68          [-1, 128, 16, 16]               0\n",
      "           Conv2d-69          [-1, 512, 16, 16]          65,536\n",
      "      BatchNorm2d-70          [-1, 512, 16, 16]           1,024\n",
      "    ResidualBlock-71          [-1, 512, 16, 16]               0\n",
      "           Conv2d-72          [-1, 256, 16, 16]         131,072\n",
      "      BatchNorm2d-73          [-1, 256, 16, 16]             512\n",
      "             ReLU-74          [-1, 256, 16, 16]               0\n",
      "           Conv2d-75            [-1, 256, 8, 8]         589,824\n",
      "      BatchNorm2d-76            [-1, 256, 8, 8]             512\n",
      "             ReLU-77            [-1, 256, 8, 8]               0\n",
      "           Conv2d-78           [-1, 1024, 8, 8]         262,144\n",
      "      BatchNorm2d-79           [-1, 1024, 8, 8]           2,048\n",
      "           Conv2d-80           [-1, 1024, 8, 8]         524,288\n",
      "      BatchNorm2d-81           [-1, 1024, 8, 8]           2,048\n",
      "    ResidualBlock-82           [-1, 1024, 8, 8]               0\n",
      "           Conv2d-83            [-1, 256, 8, 8]         262,144\n",
      "      BatchNorm2d-84            [-1, 256, 8, 8]             512\n",
      "             ReLU-85            [-1, 256, 8, 8]               0\n",
      "           Conv2d-86            [-1, 256, 8, 8]         589,824\n",
      "      BatchNorm2d-87            [-1, 256, 8, 8]             512\n",
      "             ReLU-88            [-1, 256, 8, 8]               0\n",
      "           Conv2d-89           [-1, 1024, 8, 8]         262,144\n",
      "      BatchNorm2d-90           [-1, 1024, 8, 8]           2,048\n",
      "    ResidualBlock-91           [-1, 1024, 8, 8]               0\n",
      "           Conv2d-92            [-1, 256, 8, 8]         262,144\n",
      "      BatchNorm2d-93            [-1, 256, 8, 8]             512\n",
      "             ReLU-94            [-1, 256, 8, 8]               0\n",
      "           Conv2d-95            [-1, 256, 8, 8]         589,824\n",
      "      BatchNorm2d-96            [-1, 256, 8, 8]             512\n",
      "             ReLU-97            [-1, 256, 8, 8]               0\n",
      "           Conv2d-98           [-1, 1024, 8, 8]         262,144\n",
      "      BatchNorm2d-99           [-1, 1024, 8, 8]           2,048\n",
      "   ResidualBlock-100           [-1, 1024, 8, 8]               0\n",
      "          Conv2d-101            [-1, 256, 8, 8]         262,144\n",
      "     BatchNorm2d-102            [-1, 256, 8, 8]             512\n",
      "            ReLU-103            [-1, 256, 8, 8]               0\n",
      "          Conv2d-104            [-1, 256, 8, 8]         589,824\n",
      "     BatchNorm2d-105            [-1, 256, 8, 8]             512\n",
      "            ReLU-106            [-1, 256, 8, 8]               0\n",
      "          Conv2d-107           [-1, 1024, 8, 8]         262,144\n",
      "     BatchNorm2d-108           [-1, 1024, 8, 8]           2,048\n",
      "   ResidualBlock-109           [-1, 1024, 8, 8]               0\n",
      "          Conv2d-110            [-1, 256, 8, 8]         262,144\n",
      "     BatchNorm2d-111            [-1, 256, 8, 8]             512\n",
      "            ReLU-112            [-1, 256, 8, 8]               0\n",
      "          Conv2d-113            [-1, 256, 8, 8]         589,824\n",
      "     BatchNorm2d-114            [-1, 256, 8, 8]             512\n",
      "            ReLU-115            [-1, 256, 8, 8]               0\n",
      "          Conv2d-116           [-1, 1024, 8, 8]         262,144\n",
      "     BatchNorm2d-117           [-1, 1024, 8, 8]           2,048\n",
      "   ResidualBlock-118           [-1, 1024, 8, 8]               0\n",
      "          Conv2d-119            [-1, 256, 8, 8]         262,144\n",
      "     BatchNorm2d-120            [-1, 256, 8, 8]             512\n",
      "            ReLU-121            [-1, 256, 8, 8]               0\n",
      "          Conv2d-122            [-1, 256, 8, 8]         589,824\n",
      "     BatchNorm2d-123            [-1, 256, 8, 8]             512\n",
      "            ReLU-124            [-1, 256, 8, 8]               0\n",
      "          Conv2d-125           [-1, 1024, 8, 8]         262,144\n",
      "     BatchNorm2d-126           [-1, 1024, 8, 8]           2,048\n",
      "   ResidualBlock-127           [-1, 1024, 8, 8]               0\n",
      "          Conv2d-128            [-1, 512, 8, 8]         524,288\n",
      "     BatchNorm2d-129            [-1, 512, 8, 8]           1,024\n",
      "            ReLU-130            [-1, 512, 8, 8]               0\n",
      "          Conv2d-131            [-1, 512, 4, 4]       2,359,296\n",
      "     BatchNorm2d-132            [-1, 512, 4, 4]           1,024\n",
      "            ReLU-133            [-1, 512, 4, 4]               0\n",
      "          Conv2d-134           [-1, 2048, 4, 4]       1,048,576\n",
      "     BatchNorm2d-135           [-1, 2048, 4, 4]           4,096\n",
      "          Conv2d-136           [-1, 2048, 4, 4]       2,097,152\n",
      "     BatchNorm2d-137           [-1, 2048, 4, 4]           4,096\n",
      "   ResidualBlock-138           [-1, 2048, 4, 4]               0\n",
      "          Conv2d-139            [-1, 512, 4, 4]       1,048,576\n",
      "     BatchNorm2d-140            [-1, 512, 4, 4]           1,024\n",
      "            ReLU-141            [-1, 512, 4, 4]               0\n",
      "          Conv2d-142            [-1, 512, 4, 4]       2,359,296\n",
      "     BatchNorm2d-143            [-1, 512, 4, 4]           1,024\n",
      "            ReLU-144            [-1, 512, 4, 4]               0\n",
      "          Conv2d-145           [-1, 2048, 4, 4]       1,048,576\n",
      "     BatchNorm2d-146           [-1, 2048, 4, 4]           4,096\n",
      "   ResidualBlock-147           [-1, 2048, 4, 4]               0\n",
      "          Conv2d-148            [-1, 512, 4, 4]       1,048,576\n",
      "     BatchNorm2d-149            [-1, 512, 4, 4]           1,024\n",
      "            ReLU-150            [-1, 512, 4, 4]               0\n",
      "          Conv2d-151            [-1, 512, 4, 4]       2,359,296\n",
      "     BatchNorm2d-152            [-1, 512, 4, 4]           1,024\n",
      "            ReLU-153            [-1, 512, 4, 4]               0\n",
      "          Conv2d-154           [-1, 2048, 4, 4]       1,048,576\n",
      "     BatchNorm2d-155           [-1, 2048, 4, 4]           4,096\n",
      "   ResidualBlock-156           [-1, 2048, 4, 4]               0\n",
      "AdaptiveAvgPool2d-157           [-1, 2048, 1, 1]               0\n",
      "          Linear-158                   [-1, 10]          20,490\n",
      "================================================================\n",
      "Total params: 23,528,522\n",
      "Trainable params: 23,528,522\n",
      "Non-trainable params: 0\n",
      "----------------------------------------------------------------\n",
      "Input size (MB): 0.19\n",
      "Forward/backward pass size (MB): 79.83\n",
      "Params size (MB): 89.75\n",
      "Estimated Total Size (MB): 169.77\n",
      "----------------------------------------------------------------\n"
     ]
    }
   ],
   "source": [
    "model = ResNet.ResNet56()\n",
    "device = torch.device(\"cuda\" if torch.cuda.is_available() else \"cpu\")\n",
    "model.to(device)\n",
    "summary(model, (3, 128, 128), device=device.type)"
   ]
  },
  {
   "cell_type": "markdown",
   "metadata": {
    "id": "wtic82o3oMYE"
   },
   "source": [
    "### Model training"
   ]
  },
  {
   "cell_type": "code",
   "execution_count": 6,
   "metadata": {
    "colab": {
     "base_uri": "https://localhost:8080/"
    },
    "id": "uCXmRO1io-XG",
    "outputId": "ceaf1af7-ff93-40c4-d7be-8b56c3f61812"
   },
   "outputs": [
    {
     "name": "stdout",
     "output_type": "stream",
     "text": [
      "Files already downloaded and verified\n",
      "Files already downloaded and verified\n",
      "Dataset random image shape: (3, 32, 32)\n",
      "Train dataset size: 45000\n",
      "Validation dataset size: 5000\n",
      "Test dataset size: 10000\n"
     ]
    }
   ],
   "source": [
    "train_loader, val_loader, test_loader = dataset_loader(datset_path='./dataset', batch_size=128)"
   ]
  },
  {
   "cell_type": "code",
   "execution_count": 7,
   "metadata": {
    "id": "r-PZUxkepVS2"
   },
   "outputs": [],
   "source": [
    "criterion = nn.CrossEntropyLoss()\n",
    "optimizer = optim.Adam(model.parameters(), lr=0.01)"
   ]
  },
  {
   "cell_type": "code",
   "execution_count": 8,
   "metadata": {
    "id": "9nOIAM76pgxT"
   },
   "outputs": [],
   "source": [
    "def train_model(num_of_epochs, train_loader, checkpoints_dir):\n",
    "  train_samples, val_samples = 45000, 5000\n",
    "  train_summ, val_summ = [], []\n",
    "\n",
    "  for epoch in range(num_of_epochs):\n",
    "\n",
    "    # Training\n",
    "    train_loss = 0\n",
    "    train_correct = 0\n",
    "    model.train().cuda()\n",
    "\n",
    "    for inputs, labels in train_loader:\n",
    "      inputs, labels = inputs.to(device), labels.to(device)\n",
    "\n",
    "      optimizer.zero_grad()\n",
    "\n",
    "      outputs = model(inputs)\n",
    "      loss = criterion(outputs, labels)\n",
    "      loss.backward()\n",
    "      optimizer.step()\n",
    "\n",
    "      _, predicted_outputs = torch.max(outputs.data, 1)\n",
    "      train_correct += (predicted_outputs == labels).float().sum().item()\n",
    "      train_loss += loss.item()\n",
    "\n",
    "    train_loss /= train_samples\n",
    "    train_acc = train_correct / train_samples\n",
    "    train_summ.append((train_loss, train_acc))\n",
    "\n",
    "    # Validation\n",
    "    val_loss = 0\n",
    "    val_correct = 0\n",
    "    model.eval().cuda()\n",
    "\n",
    "    with torch.no_grad():\n",
    "      for inputs, labels in val_loader:\n",
    "        inputs, labels = inputs.to(device), labels.to(device)\n",
    "\n",
    "        outputs = model(inputs)\n",
    "        loss = criterion(outputs, labels)\n",
    "\n",
    "        _, predicted_outputs = torch.max(outputs.data, 1)\n",
    "        val_correct += (predicted_outputs == labels).float().sum().item()\n",
    "        val_loss += loss.item()\n",
    "\n",
    "      val_loss /= val_samples\n",
    "      val_acc = val_correct / val_samples\n",
    "      val_summ.append((val_loss, val_acc))\n",
    "\n",
    "    print(f\"Epoch: {epoch+1}/{num_of_epochs}: train_loss = {train_loss:.4f} | train_acc = {train_acc:.4f}, val_loss = {val_loss:.4f} | val_acc: {val_acc:.4f}\")\n",
    "\n",
    "    os.makedirs(checkpoints_dir, exist_ok=True)\n",
    "    checkpoint_path = os.path.join(checkpoints_dir, f'model_checkpoint_gpu_{epoch+1}.pth')\n",
    "    torch.save(model.state_dict(), checkpoint_path)\n",
    "\n",
    "  return train_summ, val_summ"
   ]
  },
  {
   "cell_type": "code",
   "execution_count": 9,
   "metadata": {
    "colab": {
     "base_uri": "https://localhost:8080/",
     "height": 384
    },
    "id": "2Vmcu-GUt754",
    "outputId": "e5b6e52e-cb89-401f-d9b9-da008f3d8f3d"
   },
   "outputs": [
    {
     "name": "stdout",
     "output_type": "stream",
     "text": [
      "Epoch: 1/150: train_loss = 0.0197 | train_acc = 0.2508, val_loss = 0.0149 | val_acc: 0.3694\n",
      "Epoch: 2/150: train_loss = 0.0121 | train_acc = 0.4368, val_loss = 0.0110 | val_acc: 0.4988\n",
      "Epoch: 3/150: train_loss = 0.0103 | train_acc = 0.5228, val_loss = 0.0103 | val_acc: 0.5550\n",
      "Epoch: 4/150: train_loss = 0.0091 | train_acc = 0.5806, val_loss = 0.0089 | val_acc: 0.6184\n",
      "Epoch: 5/150: train_loss = 0.0081 | train_acc = 0.6290, val_loss = 0.0193 | val_acc: 0.6302\n",
      "Epoch: 6/150: train_loss = 0.0073 | train_acc = 0.6699, val_loss = 0.0080 | val_acc: 0.6476\n",
      "Epoch: 7/150: train_loss = 0.0066 | train_acc = 0.7042, val_loss = 0.0075 | val_acc: 0.6764\n",
      "Epoch: 8/150: train_loss = 0.0058 | train_acc = 0.7375, val_loss = 0.0073 | val_acc: 0.6960\n",
      "Epoch: 9/150: train_loss = 0.0053 | train_acc = 0.7650, val_loss = 0.0065 | val_acc: 0.7160\n",
      "Epoch: 10/150: train_loss = 0.0049 | train_acc = 0.7852, val_loss = 0.0064 | val_acc: 0.7296\n",
      "Epoch: 11/150: train_loss = 0.0042 | train_acc = 0.8127, val_loss = 0.0063 | val_acc: 0.7430\n",
      "Epoch: 12/150: train_loss = 0.0036 | train_acc = 0.8418, val_loss = 0.0065 | val_acc: 0.7364\n",
      "Epoch: 13/150: train_loss = 0.0031 | train_acc = 0.8592, val_loss = 0.0066 | val_acc: 0.7406\n",
      "Epoch: 14/150: train_loss = 0.0028 | train_acc = 0.8754, val_loss = 0.0064 | val_acc: 0.7480\n",
      "Epoch: 15/150: train_loss = 0.0025 | train_acc = 0.8907, val_loss = 0.0065 | val_acc: 0.7564\n",
      "Epoch: 16/150: train_loss = 0.0028 | train_acc = 0.8809, val_loss = 0.0064 | val_acc: 0.7462\n",
      "Epoch: 17/150: train_loss = 0.0023 | train_acc = 0.8987, val_loss = 0.0067 | val_acc: 0.7542\n",
      "Epoch: 18/150: train_loss = 0.0016 | train_acc = 0.9310, val_loss = 0.0076 | val_acc: 0.7460\n",
      "Epoch: 19/150: train_loss = 0.0022 | train_acc = 0.9062, val_loss = 0.0074 | val_acc: 0.7328\n",
      "Epoch: 20/150: train_loss = 0.0015 | train_acc = 0.9356, val_loss = 0.0078 | val_acc: 0.7598\n",
      "Epoch: 21/150: train_loss = 0.0012 | train_acc = 0.9474, val_loss = 0.0078 | val_acc: 0.7556\n",
      "Epoch: 22/150: train_loss = 0.0012 | train_acc = 0.9492, val_loss = 0.0102 | val_acc: 0.6828\n",
      "Epoch: 23/150: train_loss = 0.0015 | train_acc = 0.9354, val_loss = 0.0081 | val_acc: 0.7542\n",
      "Epoch: 24/150: train_loss = 0.0043 | train_acc = 0.8253, val_loss = 0.0179 | val_acc: 0.6320\n",
      "Epoch: 25/150: train_loss = 0.0036 | train_acc = 0.8430, val_loss = 0.0069 | val_acc: 0.7594\n",
      "Epoch: 26/150: train_loss = 0.0014 | train_acc = 0.9386, val_loss = 0.0079 | val_acc: 0.7572\n",
      "Epoch: 27/150: train_loss = 0.0024 | train_acc = 0.8967, val_loss = 0.0067 | val_acc: 0.7544\n",
      "Epoch: 28/150: train_loss = 0.0011 | train_acc = 0.9525, val_loss = 0.0086 | val_acc: 0.7550\n",
      "Epoch: 29/150: train_loss = 0.0007 | train_acc = 0.9703, val_loss = 0.0084 | val_acc: 0.7662\n",
      "Epoch: 30/150: train_loss = 0.0006 | train_acc = 0.9745, val_loss = 0.0092 | val_acc: 0.7596\n",
      "Epoch: 31/150: train_loss = 0.0006 | train_acc = 0.9756, val_loss = 0.0095 | val_acc: 0.7588\n",
      "Epoch: 32/150: train_loss = 0.0006 | train_acc = 0.9748, val_loss = 0.0091 | val_acc: 0.7636\n",
      "Epoch: 33/150: train_loss = 0.0006 | train_acc = 0.9742, val_loss = 0.0087 | val_acc: 0.7734\n",
      "Epoch: 34/150: train_loss = 0.0005 | train_acc = 0.9766, val_loss = 0.0097 | val_acc: 0.7616\n",
      "Epoch: 35/150: train_loss = 0.0006 | train_acc = 0.9728, val_loss = 0.0091 | val_acc: 0.7532\n",
      "Epoch: 36/150: train_loss = 0.0005 | train_acc = 0.9761, val_loss = 0.0098 | val_acc: 0.7592\n",
      "Epoch: 37/150: train_loss = 0.0009 | train_acc = 0.9634, val_loss = 0.0108 | val_acc: 0.6994\n",
      "Epoch: 38/150: train_loss = 0.0054 | train_acc = 0.7876, val_loss = 0.0073 | val_acc: 0.7450\n",
      "Epoch: 39/150: train_loss = 0.0014 | train_acc = 0.9411, val_loss = 0.0075 | val_acc: 0.7672\n",
      "Epoch: 40/150: train_loss = 0.0004 | train_acc = 0.9830, val_loss = 0.0096 | val_acc: 0.7700\n",
      "Epoch: 41/150: train_loss = 0.0003 | train_acc = 0.9865, val_loss = 0.0102 | val_acc: 0.7716\n",
      "Epoch: 42/150: train_loss = 0.0004 | train_acc = 0.9822, val_loss = 0.0097 | val_acc: 0.7612\n",
      "Epoch: 43/150: train_loss = 0.0003 | train_acc = 0.9858, val_loss = 0.0100 | val_acc: 0.7694\n",
      "Epoch: 44/150: train_loss = 0.0003 | train_acc = 0.9847, val_loss = 0.0108 | val_acc: 0.7630\n",
      "Epoch: 45/150: train_loss = 0.0004 | train_acc = 0.9838, val_loss = 0.0107 | val_acc: 0.7608\n",
      "Epoch: 46/150: train_loss = 0.0004 | train_acc = 0.9841, val_loss = 0.0103 | val_acc: 0.7658\n",
      "Epoch: 47/150: train_loss = 0.0004 | train_acc = 0.9839, val_loss = 0.0108 | val_acc: 0.7578\n",
      "Epoch: 48/150: train_loss = 0.0004 | train_acc = 0.9840, val_loss = 0.0106 | val_acc: 0.7630\n",
      "Epoch: 49/150: train_loss = 0.0004 | train_acc = 0.9838, val_loss = 0.0096 | val_acc: 0.7696\n",
      "Epoch: 50/150: train_loss = 0.0004 | train_acc = 0.9842, val_loss = 0.0100 | val_acc: 0.7686\n",
      "Epoch: 51/150: train_loss = 0.0004 | train_acc = 0.9836, val_loss = 0.0101 | val_acc: 0.7658\n",
      "Epoch: 52/150: train_loss = 0.0004 | train_acc = 0.9846, val_loss = 0.0097 | val_acc: 0.7622\n",
      "Epoch: 53/150: train_loss = 0.0003 | train_acc = 0.9853, val_loss = 0.0101 | val_acc: 0.7586\n",
      "Epoch: 54/150: train_loss = 0.0003 | train_acc = 0.9878, val_loss = 0.0101 | val_acc: 0.7684\n",
      "Epoch: 55/150: train_loss = 0.0004 | train_acc = 0.9850, val_loss = 0.0103 | val_acc: 0.7652\n",
      "Epoch: 56/150: train_loss = 0.0003 | train_acc = 0.9854, val_loss = 0.0092 | val_acc: 0.7730\n",
      "Epoch: 57/150: train_loss = 0.0002 | train_acc = 0.9894, val_loss = 0.0103 | val_acc: 0.7656\n",
      "Epoch: 58/150: train_loss = 0.0003 | train_acc = 0.9869, val_loss = 0.0106 | val_acc: 0.7624\n",
      "Epoch: 59/150: train_loss = 0.0003 | train_acc = 0.9860, val_loss = 0.0104 | val_acc: 0.7606\n",
      "Epoch: 60/150: train_loss = 0.0003 | train_acc = 0.9861, val_loss = 0.0096 | val_acc: 0.7662\n",
      "Epoch: 61/150: train_loss = 0.0002 | train_acc = 0.9907, val_loss = 0.0107 | val_acc: 0.7628\n",
      "Epoch: 62/150: train_loss = 0.0003 | train_acc = 0.9868, val_loss = 0.0121 | val_acc: 0.7460\n",
      "Epoch: 63/150: train_loss = 0.0074 | train_acc = 0.7441, val_loss = 0.0123 | val_acc: 0.5612\n",
      "Epoch: 64/150: train_loss = 0.0055 | train_acc = 0.7633, val_loss = 0.0076 | val_acc: 0.7336\n",
      "Epoch: 65/150: train_loss = 0.0016 | train_acc = 0.9350, val_loss = 0.0094 | val_acc: 0.7642\n",
      "Epoch: 66/150: train_loss = 0.0004 | train_acc = 0.9841, val_loss = 0.0103 | val_acc: 0.7662\n",
      "Epoch: 67/150: train_loss = 0.0006 | train_acc = 0.9764, val_loss = 0.0110 | val_acc: 0.7622\n",
      "Epoch: 68/150: train_loss = 0.0002 | train_acc = 0.9914, val_loss = 0.0105 | val_acc: 0.7760\n",
      "Epoch: 69/150: train_loss = 0.0001 | train_acc = 0.9973, val_loss = 0.0118 | val_acc: 0.7690\n",
      "Epoch: 70/150: train_loss = 0.0001 | train_acc = 0.9966, val_loss = 0.0127 | val_acc: 0.7546\n",
      "Epoch: 71/150: train_loss = 0.0003 | train_acc = 0.9878, val_loss = 0.0119 | val_acc: 0.7706\n",
      "Epoch: 72/150: train_loss = 0.0002 | train_acc = 0.9923, val_loss = 0.0119 | val_acc: 0.7688\n",
      "Epoch: 73/150: train_loss = 0.0004 | train_acc = 0.9843, val_loss = 0.0107 | val_acc: 0.7726\n",
      "Epoch: 74/150: train_loss = 0.0002 | train_acc = 0.9935, val_loss = 0.0108 | val_acc: 0.7690\n",
      "Epoch: 75/150: train_loss = 0.0001 | train_acc = 0.9938, val_loss = 0.0124 | val_acc: 0.7688\n",
      "Epoch: 76/150: train_loss = 0.0002 | train_acc = 0.9906, val_loss = 0.0109 | val_acc: 0.7734\n",
      "Epoch: 77/150: train_loss = 0.0002 | train_acc = 0.9913, val_loss = 0.0117 | val_acc: 0.7698\n",
      "Epoch: 78/150: train_loss = 0.0002 | train_acc = 0.9899, val_loss = 0.0115 | val_acc: 0.7696\n",
      "Epoch: 79/150: train_loss = 0.0002 | train_acc = 0.9908, val_loss = 0.0114 | val_acc: 0.7634\n",
      "Epoch: 80/150: train_loss = 0.0002 | train_acc = 0.9912, val_loss = 0.0112 | val_acc: 0.7676\n",
      "Epoch: 81/150: train_loss = 0.0002 | train_acc = 0.9892, val_loss = 0.0108 | val_acc: 0.7668\n",
      "Epoch: 82/150: train_loss = 0.0002 | train_acc = 0.9902, val_loss = 0.0109 | val_acc: 0.7688\n",
      "Epoch: 83/150: train_loss = 0.0003 | train_acc = 0.9890, val_loss = 0.0210 | val_acc: 0.6158\n",
      "Epoch: 84/150: train_loss = 0.0015 | train_acc = 0.9447, val_loss = 0.0088 | val_acc: 0.7800\n",
      "Epoch: 85/150: train_loss = 0.0001 | train_acc = 0.9964, val_loss = 0.0103 | val_acc: 0.7812\n",
      "Epoch: 86/150: train_loss = 0.0001 | train_acc = 0.9965, val_loss = 0.0115 | val_acc: 0.7666\n",
      "Epoch: 87/150: train_loss = 0.0003 | train_acc = 0.9883, val_loss = 0.0109 | val_acc: 0.7730\n",
      "Epoch: 88/150: train_loss = 0.0001 | train_acc = 0.9952, val_loss = 0.0117 | val_acc: 0.7690\n",
      "Epoch: 89/150: train_loss = 0.0001 | train_acc = 0.9952, val_loss = 0.0130 | val_acc: 0.7714\n",
      "Epoch: 90/150: train_loss = 0.0002 | train_acc = 0.9930, val_loss = 0.0130 | val_acc: 0.7674\n",
      "Epoch: 91/150: train_loss = 0.0002 | train_acc = 0.9900, val_loss = 0.0118 | val_acc: 0.7722\n",
      "Epoch: 92/150: train_loss = 0.0001 | train_acc = 0.9937, val_loss = 0.0112 | val_acc: 0.7734\n",
      "Epoch: 93/150: train_loss = 0.0002 | train_acc = 0.9925, val_loss = 0.0121 | val_acc: 0.7698\n",
      "Epoch: 94/150: train_loss = 0.0002 | train_acc = 0.9926, val_loss = 0.0111 | val_acc: 0.7742\n",
      "Epoch: 95/150: train_loss = 0.0002 | train_acc = 0.9914, val_loss = 0.0116 | val_acc: 0.7702\n",
      "Epoch: 96/150: train_loss = 0.0002 | train_acc = 0.9933, val_loss = 0.0123 | val_acc: 0.7586\n",
      "Epoch: 97/150: train_loss = 0.0002 | train_acc = 0.9907, val_loss = 0.0112 | val_acc: 0.7700\n",
      "Epoch: 98/150: train_loss = 0.0002 | train_acc = 0.9926, val_loss = 0.0109 | val_acc: 0.7674\n",
      "Epoch: 99/150: train_loss = 0.0001 | train_acc = 0.9948, val_loss = 0.0120 | val_acc: 0.7564\n",
      "Epoch: 100/150: train_loss = 0.0002 | train_acc = 0.9922, val_loss = 0.0116 | val_acc: 0.7712\n",
      "Epoch: 101/150: train_loss = 0.0001 | train_acc = 0.9939, val_loss = 0.0111 | val_acc: 0.7718\n",
      "Epoch: 102/150: train_loss = 0.0002 | train_acc = 0.9913, val_loss = 0.0108 | val_acc: 0.7742\n",
      "Epoch: 103/150: train_loss = 0.0002 | train_acc = 0.9926, val_loss = 0.0126 | val_acc: 0.7666\n",
      "Epoch: 104/150: train_loss = 0.0002 | train_acc = 0.9931, val_loss = 0.0121 | val_acc: 0.7708\n",
      "Epoch: 105/150: train_loss = 0.0002 | train_acc = 0.9928, val_loss = 0.0115 | val_acc: 0.7748\n",
      "Epoch: 106/150: train_loss = 0.0001 | train_acc = 0.9938, val_loss = 0.0116 | val_acc: 0.7732\n",
      "Epoch: 107/150: train_loss = 0.0002 | train_acc = 0.9932, val_loss = 0.0121 | val_acc: 0.7662\n",
      "Epoch: 108/150: train_loss = 0.0002 | train_acc = 0.9927, val_loss = 0.0119 | val_acc: 0.7598\n",
      "Epoch: 109/150: train_loss = 0.0001 | train_acc = 0.9951, val_loss = 0.0122 | val_acc: 0.7792\n",
      "Epoch: 110/150: train_loss = 0.0002 | train_acc = 0.9930, val_loss = 0.0118 | val_acc: 0.7650\n",
      "Epoch: 111/150: train_loss = 0.0002 | train_acc = 0.9935, val_loss = 0.0118 | val_acc: 0.7660\n",
      "Epoch: 112/150: train_loss = 0.0006 | train_acc = 0.9810, val_loss = 0.0110 | val_acc: 0.7566\n",
      "Epoch: 113/150: train_loss = 0.0003 | train_acc = 0.9883, val_loss = 0.0105 | val_acc: 0.7768\n",
      "Epoch: 114/150: train_loss = 0.0001 | train_acc = 0.9976, val_loss = 0.0116 | val_acc: 0.7792\n",
      "Epoch: 115/150: train_loss = 0.0000 | train_acc = 0.9986, val_loss = 0.0119 | val_acc: 0.7724\n",
      "Epoch: 116/150: train_loss = 0.0001 | train_acc = 0.9963, val_loss = 0.0124 | val_acc: 0.7732\n",
      "Epoch: 117/150: train_loss = 0.0002 | train_acc = 0.9934, val_loss = 0.0127 | val_acc: 0.7612\n",
      "Epoch: 118/150: train_loss = 0.0002 | train_acc = 0.9910, val_loss = 0.0110 | val_acc: 0.7754\n",
      "Epoch: 119/150: train_loss = 0.0001 | train_acc = 0.9958, val_loss = 0.0119 | val_acc: 0.7740\n",
      "Epoch: 120/150: train_loss = 0.0001 | train_acc = 0.9965, val_loss = 0.0131 | val_acc: 0.7776\n",
      "Epoch: 121/150: train_loss = 0.0002 | train_acc = 0.9915, val_loss = 0.0112 | val_acc: 0.7646\n",
      "Epoch: 122/150: train_loss = 0.0001 | train_acc = 0.9953, val_loss = 0.0125 | val_acc: 0.7724\n",
      "Epoch: 123/150: train_loss = 0.0002 | train_acc = 0.9932, val_loss = 0.0115 | val_acc: 0.7772\n",
      "Epoch: 124/150: train_loss = 0.0001 | train_acc = 0.9951, val_loss = 0.0117 | val_acc: 0.7720\n",
      "Epoch: 125/150: train_loss = 0.0001 | train_acc = 0.9951, val_loss = 0.0119 | val_acc: 0.7708\n",
      "Epoch: 126/150: train_loss = 0.0001 | train_acc = 0.9945, val_loss = 0.0121 | val_acc: 0.7726\n",
      "Epoch: 127/150: train_loss = 0.0001 | train_acc = 0.9943, val_loss = 0.0123 | val_acc: 0.7682\n",
      "Epoch: 128/150: train_loss = 0.0001 | train_acc = 0.9958, val_loss = 0.0120 | val_acc: 0.7740\n",
      "Epoch: 129/150: train_loss = 0.0001 | train_acc = 0.9955, val_loss = 0.0121 | val_acc: 0.7722\n",
      "Epoch: 130/150: train_loss = 0.0001 | train_acc = 0.9948, val_loss = 0.0117 | val_acc: 0.7798\n",
      "Epoch: 131/150: train_loss = 0.0002 | train_acc = 0.9940, val_loss = 0.0121 | val_acc: 0.7776\n",
      "Epoch: 132/150: train_loss = 0.0001 | train_acc = 0.9946, val_loss = 0.0115 | val_acc: 0.7786\n",
      "Epoch: 133/150: train_loss = 0.0001 | train_acc = 0.9968, val_loss = 0.0126 | val_acc: 0.7714\n",
      "Epoch: 134/150: train_loss = 0.0001 | train_acc = 0.9953, val_loss = 0.0122 | val_acc: 0.7690\n",
      "Epoch: 135/150: train_loss = 0.0001 | train_acc = 0.9947, val_loss = 0.0120 | val_acc: 0.7674\n",
      "Epoch: 136/150: train_loss = 0.0001 | train_acc = 0.9941, val_loss = 0.0108 | val_acc: 0.7764\n",
      "Epoch: 137/150: train_loss = 0.0001 | train_acc = 0.9957, val_loss = 0.0131 | val_acc: 0.7692\n",
      "Epoch: 138/150: train_loss = 0.0001 | train_acc = 0.9955, val_loss = 0.0129 | val_acc: 0.7674\n",
      "Epoch: 139/150: train_loss = 0.0001 | train_acc = 0.9948, val_loss = 0.0119 | val_acc: 0.7722\n",
      "Epoch: 140/150: train_loss = 0.0002 | train_acc = 0.9936, val_loss = 0.0119 | val_acc: 0.7694\n",
      "Epoch: 141/150: train_loss = 0.0001 | train_acc = 0.9950, val_loss = 0.0115 | val_acc: 0.7754\n",
      "Epoch: 142/150: train_loss = 0.0001 | train_acc = 0.9958, val_loss = 0.0120 | val_acc: 0.7740\n",
      "Epoch: 143/150: train_loss = 0.0001 | train_acc = 0.9980, val_loss = 0.0128 | val_acc: 0.7760\n",
      "Epoch: 144/150: train_loss = 0.0001 | train_acc = 0.9960, val_loss = 0.0128 | val_acc: 0.7698\n",
      "Epoch: 145/150: train_loss = 0.0001 | train_acc = 0.9940, val_loss = 0.0125 | val_acc: 0.7722\n",
      "Epoch: 146/150: train_loss = 0.0001 | train_acc = 0.9964, val_loss = 0.0123 | val_acc: 0.7734\n",
      "Epoch: 147/150: train_loss = 0.0001 | train_acc = 0.9951, val_loss = 0.0113 | val_acc: 0.7804\n",
      "Epoch: 148/150: train_loss = 0.0001 | train_acc = 0.9956, val_loss = 0.0119 | val_acc: 0.7770\n",
      "Epoch: 149/150: train_loss = 0.0001 | train_acc = 0.9954, val_loss = 0.0129 | val_acc: 0.7634\n",
      "Epoch: 150/150: train_loss = 0.0001 | train_acc = 0.9960, val_loss = 0.0121 | val_acc: 0.7720\n"
     ]
    }
   ],
   "source": [
    "train_summ, val_summ = train_model(num_of_epochs=150, train_loader=train_loader, checkpoints_dir='./training_checkpoints')"
   ]
  },
  {
   "cell_type": "markdown",
   "metadata": {
    "id": "x5-CDsDybHqj"
   },
   "source": [
    "### Generate Plots"
   ]
  },
  {
   "cell_type": "code",
   "execution_count": 10,
   "metadata": {
    "id": "RPj0GYrU4xyN"
   },
   "outputs": [],
   "source": [
    "def generate_plots(train_summ, val_summ):\n",
    "  train_loss, train_acc = zip(*train_summ)\n",
    "  val_loss, val_acc = zip(*val_summ)\n",
    "\n",
    "  plt.figure(figsize=(12, 5))\n",
    "  plt.subplot(1, 2, 1)\n",
    "  plt.plot(train_loss, label='Train Loss', marker='o')\n",
    "  plt.plot(val_loss, label='Validation Loss', marker='o')\n",
    "  plt.xlabel('Epochs')\n",
    "  plt.ylabel('Loss')\n",
    "  plt.title('Training and Validation Loss')\n",
    "  plt.legend()\n",
    "  plt.grid(True)\n",
    "\n",
    "  plt.subplot(1, 2, 2)\n",
    "  plt.plot(train_acc, label='Train Accuracy', marker='o')\n",
    "  plt.plot(val_acc, label='Validation Accuracy', marker='o')\n",
    "  plt.xlabel('Epochs')\n",
    "  plt.ylabel('Accuracy (%)')\n",
    "  plt.title('Training and Validation Accuracy')\n",
    "  plt.legend()\n",
    "  plt.grid(True)\n",
    "\n",
    "  plt.tight_layout()\n",
    "  plt.show()"
   ]
  },
  {
   "cell_type": "code",
   "execution_count": 11,
   "metadata": {
    "id": "rysAbF6K5MFF"
   },
   "outputs": [
    {
     "data": {
      "image/png": "[encoded data removed]",
      "text/plain": [
       "<Figure size 1200x500 with 2 Axes>"
      ]
     },
     "metadata": {},
     "output_type": "display_data"
    }
   ],
   "source": [
    "generate_plots(train_summ, val_summ)"
   ]
  },
  {
   "cell_type": "markdown",
   "metadata": {
    "id": "nFlMtVpIu3H-"
   },
   "source": [
    "### Model testing"
   ]
  },
  {
   "cell_type": "code",
   "execution_count": 12,
   "metadata": {
    "id": "PkUPhQwtu4k3"
   },
   "outputs": [
    {
     "name": "stdout",
     "output_type": "stream",
     "text": [
      "Test accuracy: 0.7634\n"
     ]
    }
   ],
   "source": [
    "test_samples = 10000\n",
    "test_correct = 0\n",
    "\n",
    "model.eval().cuda()\n",
    "\n",
    "with torch.no_grad():\n",
    "  for inputs, labels in test_loader:\n",
    "    inputs, labels = inputs.to(device), labels.to(device)\n",
    "\n",
    "    outputs = model(inputs)\n",
    "\n",
    "    _, predicted_outputs = torch.max(outputs.data, 1)\n",
    "    test_correct += (predicted_outputs == labels).float().sum().item()\n",
    "\n",
    "test_acc = test_correct / test_samples\n",
    "print(f\"Test accuracy: {test_acc:.4f}\")"
   ]
  }
 ],
 "metadata": {
  "accelerator": "GPU",
  "colab": {
   "gpuType": "T4",
   "provenance": []
  },
  "kernelspec": {
   "display_name": "Python 3 (ipykernel)",
   "language": "python",
   "name": "python3"
  },
  "language_info": {
   "codemirror_mode": {
    "name": "ipython",
    "version": 3
   },
   "file_extension": ".py",
   "mimetype": "text/x-python",
   "name": "python",
   "nbconvert_exporter": "python",
   "pygments_lexer": "ipython3",
   "version": "3.10.12"
  }
 },
 "nbformat": 4,
 "nbformat_minor": 4
}
